{
  "nbformat": 4,
  "nbformat_minor": 0,
  "metadata": {
    "colab": {
      "name": "H2O .ipynb",
      "provenance": [],
      "authorship_tag": "ABX9TyPuFMN/evKiluShgaTCSGPK",
      "include_colab_link": true
    },
    "kernelspec": {
      "name": "python3",
      "display_name": "Python 3"
    },
    "language_info": {
      "name": "python"
    }
  },
  "cells": [
    {
      "cell_type": "markdown",
      "metadata": {
        "id": "view-in-github",
        "colab_type": "text"
      },
      "source": [
        "<a href=\"https://colab.research.google.com/github/SamikshaDhole3/SamikshaDhole3/blob/main/H2O_tutorial.ipynb\" target=\"_parent\"><img src=\"https://colab.research.google.com/assets/colab-badge.svg\" alt=\"Open In Colab\"/></a>"
      ]
    },
    {
      "cell_type": "markdown",
      "metadata": {
        "id": "xnvL6C-xXc_m"
      },
      "source": [
        "\n",
        "***Introduction***\n",
        "\n"
      ]
    },
    {
      "cell_type": "markdown",
      "metadata": {
        "id": "kYbVX6NBXjfH"
      },
      "source": [
        "H2O is an open source Machine Learning framework with full-tested implementations of several widely-accepted ML algorithms. You just have to pick up the algorithm from its huge repository and apply it to your dataset. It contains the most widely used statistical and ML algorithms.\n",
        "\n",
        "H2O provides an easy-to-use open source platform for applying different ML algorithms on a given dataset. It provides **several statistical and ML algorithms including deep learning.**\n",
        "\n",
        "In this tutorial, we will consider examples and understand how to go about working with H2O.\n",
        "\n",
        "**Audience**\n",
        "This tutorial is designed to help all those learners who are aiming to develop a Machine Learning model on a huge database.\n",
        "\n",
        "Prerequisites\n",
        "\n",
        "---\n",
        "\n",
        "\n",
        "It is assumed that the learner has a basic understanding of Machine Learning and is familiar with Python."
      ]
    },
    {
      "cell_type": "markdown",
      "metadata": {
        "id": "RyWhECMEX0g1"
      },
      "source": [
        "**H2O SETUP GUIDE**"
      ]
    },
    {
      "cell_type": "markdown",
      "metadata": {
        "id": "qpqum02tX-Hh"
      },
      "source": [
        " Have you ever been asked to develop a Machine Learning model on a **huge database**? Typically, the database will provide you  and ask you to make certain predictions such as who will be the potential buyers; if there can be an early detection of fraudulent cases, etc. To answer these questions, your task would be to develop a Machine Learning algorithm that would provide an answer to the customer’s query. Developing a Machine Learning algorithm from scratch is not an easy task and why should you do this when there are **several ready-to-use Machine Learning libraries** available in the market.\n",
        "\n",
        "These days, you would rather use these libraries, apply a well-tested algorithm from these libraries and look at its performance. If the performance were not within acceptable limits, you would try to either fine-tune the current algorithm or try an altogether different one.\n",
        "\n",
        "Likewise, you may try multiple algorithms on the same dataset and then pick up the best one that satisfactorily meets the customer’s requirements. This is where H2O comes to your rescue. It is an open source Machine Learning framework with full-tested implementations of several widely-accepted ML algorithms. You just have to pick up the algorithm from its huge repository and apply it to your dataset. It contains the most widely used statistical and ML algorithms.\n",
        "\n",
        "To mention a few here it includes **gradient boosted machines (GBM), generalized linear model (GLM), deep learning and many more**. Not only that it also supports ***AutoML functionality*** that will rank the performance of different algorithms on your dataset, thus reducing your efforts of finding the best performing model. It is an in-memory platform that provides superb performance.\n",
        "\n",
        "To install the H2O on your machine . see this web link [H2O Installation Tutorial](https://www.tutorialspoint.com/h2o/h2o_installation.htm)We will understand how to use this in the command line so that you understand its working line-wise. If you are a Python lover, you may use Jupyter or any other IDE of your choice for developing H2O applications. \n",
        "\n",
        "The H2O also provides a web-based tool to test the different algorithms on your dataset. This is called Flow.\n",
        "\n",
        "The tutorial will introduce you to the use of **Flow**. Alongside, we will discuss the use of **AutoML** that will identify the best performing algorithm on your dataset. Are you not excited to learn H2O? Keep reading!\n"
      ]
    },
    {
      "cell_type": "markdown",
      "metadata": {
        "id": "GfTBbBigYC3m"
      },
      "source": [
        "** H20 provide many in-built ML and Deep Leraing Algorithms. but in this tutorial my foucs to provide AutoML tutorial.**  "
      ]
    },
    {
      "cell_type": "markdown",
      "metadata": {
        "id": "Q0rjFpiBYQR_"
      },
      "source": [
        "**IMPORTING** **AutoML**"
      ]
    },
    {
      "cell_type": "markdown",
      "metadata": {
        "id": "NXa66ZHcYVvt"
      },
      "source": [
        "First import H2O and AutoML package into the project using the following \n",
        "\n",
        "*   List item\n",
        "*   List item\n",
        "\n",
        "two statements −"
      ]
    },
    {
      "cell_type": "code",
      "metadata": {
        "colab": {
          "base_uri": "https://localhost:8080/"
        },
        "id": "ZqIu_pSO0Qwe",
        "outputId": "eaef3e47-e2dd-4572-cc96-b9c345c27dc7"
      },
      "source": [
        "!pip install -f http://h2o-release.s3.amazonaws.com/h2o/latest_stable_Py.html h2o\n"
      ],
      "execution_count": 13,
      "outputs": [
        {
          "output_type": "stream",
          "text": [
            "Looking in links: http://h2o-release.s3.amazonaws.com/h2o/latest_stable_Py.html\n",
            "Requirement already satisfied: h2o in /usr/local/lib/python3.7/dist-packages (3.32.1.4)\n",
            "Requirement already satisfied: tabulate in /usr/local/lib/python3.7/dist-packages (from h2o) (0.8.9)\n",
            "Requirement already satisfied: colorama>=0.3.8 in /usr/local/lib/python3.7/dist-packages (from h2o) (0.4.4)\n",
            "Requirement already satisfied: requests in /usr/local/lib/python3.7/dist-packages (from h2o) (2.23.0)\n",
            "Requirement already satisfied: future in /usr/local/lib/python3.7/dist-packages (from h2o) (0.16.0)\n",
            "Requirement already satisfied: chardet<4,>=3.0.2 in /usr/local/lib/python3.7/dist-packages (from requests->h2o) (3.0.4)\n",
            "Requirement already satisfied: urllib3!=1.25.0,!=1.25.1,<1.26,>=1.21.1 in /usr/local/lib/python3.7/dist-packages (from requests->h2o) (1.24.3)\n",
            "Requirement already satisfied: idna<3,>=2.5 in /usr/local/lib/python3.7/dist-packages (from requests->h2o) (2.10)\n",
            "Requirement already satisfied: certifi>=2017.4.17 in /usr/local/lib/python3.7/dist-packages (from requests->h2o) (2021.5.30)\n"
          ],
          "name": "stdout"
        }
      ]
    },
    {
      "cell_type": "code",
      "metadata": {
        "id": "fbwkiK1rI-EV"
      },
      "source": [
        "import h2o\n",
        "from h2o.automl import H2OAutoML"
      ],
      "execution_count": 14,
      "outputs": []
    },
    {
      "cell_type": "markdown",
      "metadata": {
        "id": "PPWvm3OsYrjh"
      },
      "source": [
        "**Initialize H2O**"
      ]
    },
    {
      "cell_type": "code",
      "metadata": {
        "colab": {
          "base_uri": "https://localhost:8080/",
          "height": 395
        },
        "id": "yfMeBMh_JUFb",
        "outputId": "332c9514-d045-4689-b79a-e11ba18499cb"
      },
      "source": [
        "h2o.init()"
      ],
      "execution_count": 15,
      "outputs": [
        {
          "output_type": "stream",
          "text": [
            "Checking whether there is an H2O instance running at http://localhost:54321 . connected.\n"
          ],
          "name": "stdout"
        },
        {
          "output_type": "display_data",
          "data": {
            "text/html": [
              "<div style=\"overflow:auto\"><table style=\"width:50%\"><tr><td>H2O_cluster_uptime:</td>\n",
              "<td>46 mins 51 secs</td></tr>\n",
              "<tr><td>H2O_cluster_timezone:</td>\n",
              "<td>Etc/UTC</td></tr>\n",
              "<tr><td>H2O_data_parsing_timezone:</td>\n",
              "<td>UTC</td></tr>\n",
              "<tr><td>H2O_cluster_version:</td>\n",
              "<td>3.32.1.4</td></tr>\n",
              "<tr><td>H2O_cluster_version_age:</td>\n",
              "<td>22 days </td></tr>\n",
              "<tr><td>H2O_cluster_name:</td>\n",
              "<td>H2O_from_python_unknownUser_cdnm84</td></tr>\n",
              "<tr><td>H2O_cluster_total_nodes:</td>\n",
              "<td>1</td></tr>\n",
              "<tr><td>H2O_cluster_free_memory:</td>\n",
              "<td>3.165 Gb</td></tr>\n",
              "<tr><td>H2O_cluster_total_cores:</td>\n",
              "<td>2</td></tr>\n",
              "<tr><td>H2O_cluster_allowed_cores:</td>\n",
              "<td>2</td></tr>\n",
              "<tr><td>H2O_cluster_status:</td>\n",
              "<td>locked, healthy</td></tr>\n",
              "<tr><td>H2O_connection_url:</td>\n",
              "<td>http://localhost:54321</td></tr>\n",
              "<tr><td>H2O_connection_proxy:</td>\n",
              "<td>{\"http\": null, \"https\": null}</td></tr>\n",
              "<tr><td>H2O_internal_security:</td>\n",
              "<td>False</td></tr>\n",
              "<tr><td>H2O_API_Extensions:</td>\n",
              "<td>Amazon S3, XGBoost, Algos, AutoML, Core V3, TargetEncoder, Core V4</td></tr>\n",
              "<tr><td>Python_version:</td>\n",
              "<td>3.7.11 final</td></tr></table></div>"
            ],
            "text/plain": [
              "--------------------------  ------------------------------------------------------------------\n",
              "H2O_cluster_uptime:         46 mins 51 secs\n",
              "H2O_cluster_timezone:       Etc/UTC\n",
              "H2O_data_parsing_timezone:  UTC\n",
              "H2O_cluster_version:        3.32.1.4\n",
              "H2O_cluster_version_age:    22 days\n",
              "H2O_cluster_name:           H2O_from_python_unknownUser_cdnm84\n",
              "H2O_cluster_total_nodes:    1\n",
              "H2O_cluster_free_memory:    3.165 Gb\n",
              "H2O_cluster_total_cores:    2\n",
              "H2O_cluster_allowed_cores:  2\n",
              "H2O_cluster_status:         locked, healthy\n",
              "H2O_connection_url:         http://localhost:54321\n",
              "H2O_connection_proxy:       {\"http\": null, \"https\": null}\n",
              "H2O_internal_security:      False\n",
              "H2O_API_Extensions:         Amazon S3, XGBoost, Algos, AutoML, Core V3, TargetEncoder, Core V4\n",
              "Python_version:             3.7.11 final\n",
              "--------------------------  ------------------------------------------------------------------"
            ]
          },
          "metadata": {
            "tags": []
          }
        }
      ]
    },
    {
      "cell_type": "markdown",
      "metadata": {
        "id": "DHgkIQa_YzcQ"
      },
      "source": [
        "**Loading Data**\n",
        "\n",
        "We are using iris.csv dataset.Load the data using the following statement −"
      ]
    },
    {
      "cell_type": "code",
      "metadata": {
        "colab": {
          "base_uri": "https://localhost:8080/"
        },
        "id": "_301q4TSJdfb",
        "outputId": "27453957-4ca0-44f0-88bd-bdc6a0344919"
      },
      "source": [
        "from sklearn import datasets\n",
        "data = h2o.import_file('https://gist.githubusercontent.com/btkhimsar/ed560337d8b944832d1c1f55fac093fc/raw/6f9306ad21398ea43cba4f7d537619d0e07d5ae3/iris.csv')\n",
        "\n"
      ],
      "execution_count": 16,
      "outputs": [
        {
          "output_type": "stream",
          "text": [
            "Parse progress: |█████████████████████████████████████████████████████████| 100%\n"
          ],
          "name": "stdout"
        }
      ]
    },
    {
      "cell_type": "code",
      "metadata": {
        "colab": {
          "base_uri": "https://localhost:8080/"
        },
        "id": "qsG9A6TCJnoI",
        "outputId": "0638a1e7-3ac7-43c4-b502-e8e5fae8c828"
      },
      "source": [
        "data.columns"
      ],
      "execution_count": 17,
      "outputs": [
        {
          "output_type": "execute_result",
          "data": {
            "text/plain": [
              "['sepal.length', 'sepal.width', 'petal.length', 'petal.width', 'variety']"
            ]
          },
          "metadata": {
            "tags": []
          },
          "execution_count": 17
        }
      ]
    },
    {
      "cell_type": "markdown",
      "metadata": {
        "id": "jbt9McpwZAoQ"
      },
      "source": [
        "**Preparing Dataset**"
      ]
    },
    {
      "cell_type": "markdown",
      "metadata": {
        "id": "kapo6rFhZGay"
      },
      "source": [
        "*We* need to decide on the features and the prediction columns. We use the same features and the predication column as in our earlier case. Set the features and the output column using the following two statements −"
      ]
    },
    {
      "cell_type": "code",
      "metadata": {
        "id": "S3NSr0eBJtyi"
      },
      "source": [
        "features = ['sepal.length', 'sepal.width', 'petal.length', 'petal.width']\n",
        "output = 'variety'"
      ],
      "execution_count": 18,
      "outputs": []
    },
    {
      "cell_type": "markdown",
      "metadata": {
        "id": "EdSWJFMWZMiY"
      },
      "source": [
        "Split the data in 80:20 ratio for training and testing −\n",
        "\n",
        "---\n",
        "\n"
      ]
    },
    {
      "cell_type": "code",
      "metadata": {
        "id": "0CEKimjXJ0gj"
      },
      "source": [
        "train, test = data.split_frame(ratios=[0.8])"
      ],
      "execution_count": 19,
      "outputs": []
    },
    {
      "cell_type": "markdown",
      "metadata": {
        "id": "LEspiv08ZVNI"
      },
      "source": [
        "**Applying AutoML**"
      ]
    },
    {
      "cell_type": "markdown",
      "metadata": {
        "id": "Vw8dTytUZZhM"
      },
      "source": [
        "Now, we are all set for applying AutoML on our dataset. The AutoML will run for a fixed amount of time set by us and give us the optimized model. We set up the AutoML using the following statement −"
      ]
    },
    {
      "cell_type": "code",
      "metadata": {
        "id": "Cg70iqmZJ5Ia"
      },
      "source": [
        "automl = H2OAutoML(max_models = 30, max_runtime_secs=300, seed = 1)"
      ],
      "execution_count": 20,
      "outputs": []
    },
    {
      "cell_type": "markdown",
      "metadata": {
        "id": "fpin5b_uZec0"
      },
      "source": [
        "The first parameter specifies the number of models that we want to evaluate and compare.\n",
        "\n",
        "The second parameter specifies the time for which the algorithm runs.\n",
        "\n",
        "We now call the train method on the AutoML object as shown here −"
      ]
    },
    {
      "cell_type": "code",
      "metadata": {
        "colab": {
          "base_uri": "https://localhost:8080/"
        },
        "id": "w1lssgYrJ_FT",
        "outputId": "33122252-f467-4193-ca53-8cbc20b211e2"
      },
      "source": [
        "automl.train(x =features, y =output, training_frame = train)"
      ],
      "execution_count": 21,
      "outputs": [
        {
          "output_type": "stream",
          "text": [
            "AutoML progress: |██████████\n",
            "06:46:56.674: Skipping training of model GBM_5_AutoML_20210731_064641 due to exception: water.exceptions.H2OModelBuilderIllegalArgumentException: Illegal argument(s) for GBM model: GBM_5_AutoML_20210731_064641.  Details: ERRR on field: _min_rows: The dataset size is too small to split for min_rows=100.0: must have at least 200.0 (weighted) rows, but have only 119.0.\n",
            "\n",
            "\n",
            "██████████████████████████████████████████████| 100%\n"
          ],
          "name": "stdout"
        }
      ]
    },
    {
      "cell_type": "markdown",
      "metadata": {
        "id": "-bZTguBiZm8H"
      },
      "source": [
        "We specify the x as the features array that we created earlier, the y as the output variable to indicate the predicted value and the dataframe as train dataset.\n",
        "\n",
        "Run the code, you will have to wait for 5 minutes (we set the max_runtime_secs to 300) until you get the following output −"
      ]
    },
    {
      "cell_type": "markdown",
      "metadata": {
        "id": "7oX3poEkZrkf"
      },
      "source": [
        "**Printing the Leaderboard**"
      ]
    },
    {
      "cell_type": "markdown",
      "metadata": {
        "id": "Dkgnq2GNZwZ7"
      },
      "source": [
        "When the AutoML processing completes, it creates a leaderboard ranking all the 30 algorithms that it has evaluated. To see the first 10 records of the leaderboard, use the following code −"
      ]
    },
    {
      "cell_type": "code",
      "metadata": {
        "colab": {
          "base_uri": "https://localhost:8080/",
          "height": 254
        },
        "id": "94t-MwOxKPFK",
        "outputId": "17d7c064-f658-42ef-99e1-bc4b0b132903"
      },
      "source": [
        "lb = automl.leaderboard\n",
        "lb.head()"
      ],
      "execution_count": 22,
      "outputs": [
        {
          "output_type": "display_data",
          "data": {
            "text/html": [
              "<table>\n",
              "<thead>\n",
              "<tr><th>model_id                                           </th><th style=\"text-align: right;\">  mean_per_class_error</th><th style=\"text-align: right;\">  logloss</th><th style=\"text-align: right;\">    rmse</th><th style=\"text-align: right;\">      mse</th><th style=\"text-align: right;\">  auc</th><th style=\"text-align: right;\">  aucpr</th></tr>\n",
              "</thead>\n",
              "<tbody>\n",
              "<tr><td>GLM_1_AutoML_20210731_064641                       </td><td style=\"text-align: right;\">             0.0246449</td><td style=\"text-align: right;\">0.0714207</td><td style=\"text-align: right;\">0.14904 </td><td style=\"text-align: right;\">0.0222128</td><td style=\"text-align: right;\">  nan</td><td style=\"text-align: right;\">    nan</td></tr>\n",
              "<tr><td>DeepLearning_grid__1_AutoML_20210731_064641_model_1</td><td style=\"text-align: right;\">             0.0501253</td><td style=\"text-align: right;\">0.242353 </td><td style=\"text-align: right;\">0.217426</td><td style=\"text-align: right;\">0.0472739</td><td style=\"text-align: right;\">  nan</td><td style=\"text-align: right;\">    nan</td></tr>\n",
              "<tr><td>StackedEnsemble_AllModels_AutoML_20210731_064641   </td><td style=\"text-align: right;\">             0.0509607</td><td style=\"text-align: right;\">0.223037 </td><td style=\"text-align: right;\">0.230501</td><td style=\"text-align: right;\">0.0531309</td><td style=\"text-align: right;\">  nan</td><td style=\"text-align: right;\">    nan</td></tr>\n",
              "<tr><td>DeepLearning_grid__2_AutoML_20210731_064641_model_1</td><td style=\"text-align: right;\">             0.0509607</td><td style=\"text-align: right;\">0.36188  </td><td style=\"text-align: right;\">0.220796</td><td style=\"text-align: right;\">0.0487511</td><td style=\"text-align: right;\">  nan</td><td style=\"text-align: right;\">    nan</td></tr>\n",
              "<tr><td>DeepLearning_grid__3_AutoML_20210731_064641_model_1</td><td style=\"text-align: right;\">             0.0509607</td><td style=\"text-align: right;\">0.359295 </td><td style=\"text-align: right;\">0.215543</td><td style=\"text-align: right;\">0.0464588</td><td style=\"text-align: right;\">  nan</td><td style=\"text-align: right;\">    nan</td></tr>\n",
              "<tr><td>XGBoost_grid__1_AutoML_20210731_064641_model_2     </td><td style=\"text-align: right;\">             0.0572264</td><td style=\"text-align: right;\">0.453995 </td><td style=\"text-align: right;\">0.369483</td><td style=\"text-align: right;\">0.136517 </td><td style=\"text-align: right;\">  nan</td><td style=\"text-align: right;\">    nan</td></tr>\n",
              "<tr><td>XGBoost_1_AutoML_20210731_064641                   </td><td style=\"text-align: right;\">             0.0572264</td><td style=\"text-align: right;\">0.237519 </td><td style=\"text-align: right;\">0.243379</td><td style=\"text-align: right;\">0.0592334</td><td style=\"text-align: right;\">  nan</td><td style=\"text-align: right;\">    nan</td></tr>\n",
              "<tr><td>XGBoost_2_AutoML_20210731_064641                   </td><td style=\"text-align: right;\">             0.0572264</td><td style=\"text-align: right;\">0.451997 </td><td style=\"text-align: right;\">0.367716</td><td style=\"text-align: right;\">0.135215 </td><td style=\"text-align: right;\">  nan</td><td style=\"text-align: right;\">    nan</td></tr>\n",
              "<tr><td>StackedEnsemble_BestOfFamily_AutoML_20210731_064641</td><td style=\"text-align: right;\">             0.0588972</td><td style=\"text-align: right;\">0.231802 </td><td style=\"text-align: right;\">0.238367</td><td style=\"text-align: right;\">0.0568188</td><td style=\"text-align: right;\">  nan</td><td style=\"text-align: right;\">    nan</td></tr>\n",
              "<tr><td>XGBoost_grid__1_AutoML_20210731_064641_model_1     </td><td style=\"text-align: right;\">             0.0659983</td><td style=\"text-align: right;\">0.211179 </td><td style=\"text-align: right;\">0.23842 </td><td style=\"text-align: right;\">0.0568443</td><td style=\"text-align: right;\">  nan</td><td style=\"text-align: right;\">    nan</td></tr>\n",
              "</tbody>\n",
              "</table>"
            ]
          },
          "metadata": {
            "tags": []
          }
        },
        {
          "output_type": "execute_result",
          "data": {
            "text/plain": [
              ""
            ]
          },
          "metadata": {
            "tags": []
          },
          "execution_count": 22
        }
      ]
    },
    {
      "cell_type": "markdown",
      "metadata": {
        "id": "fx4GxaX_Z6-7"
      },
      "source": [
        "**Predicting Test Data**"
      ]
    },
    {
      "cell_type": "markdown",
      "metadata": {
        "id": "OreJ5N_-aAjp"
      },
      "source": [
        "Now, you have the models ranked, you can see the performance of the \n",
        "\n",
        "*   List item\n",
        "*   List item\n",
        "\n",
        "top-rated model on your test data. To do so, run the following code statement −"
      ]
    },
    {
      "cell_type": "code",
      "metadata": {
        "colab": {
          "base_uri": "https://localhost:8080/"
        },
        "id": "_UXyYVaWUQUt",
        "outputId": "1941b4c4-f6b6-4afc-cb87-3c827b7351fa"
      },
      "source": [
        "preds = automl.predict(test)\n"
      ],
      "execution_count": 23,
      "outputs": [
        {
          "output_type": "stream",
          "text": [
            "glm prediction progress: |████████████████████████████████████████████████| 100%\n"
          ],
          "name": "stdout"
        }
      ]
    },
    {
      "cell_type": "markdown",
      "metadata": {
        "id": "QUOrpl7XaJ3A"
      },
      "source": [
        "**Printing Result**"
      ]
    },
    {
      "cell_type": "code",
      "metadata": {
        "colab": {
          "base_uri": "https://localhost:8080/",
          "height": 271
        },
        "id": "5C5JVagpVxY1",
        "outputId": "4aa0f7a9-bb94-4b10-d14b-354ee6b58020"
      },
      "source": [
        "print (preds)"
      ],
      "execution_count": 24,
      "outputs": [
        {
          "output_type": "display_data",
          "data": {
            "text/html": [
              "<table>\n",
              "<thead>\n",
              "<tr><th>predict  </th><th style=\"text-align: right;\">  Setosa</th><th style=\"text-align: right;\">  Versicolor</th><th style=\"text-align: right;\">  Virginica</th></tr>\n",
              "</thead>\n",
              "<tbody>\n",
              "<tr><td>Setosa   </td><td style=\"text-align: right;\">0.999948</td><td style=\"text-align: right;\"> 5.24419e-05</td><td style=\"text-align: right;\">9.05029e-22</td></tr>\n",
              "<tr><td>Setosa   </td><td style=\"text-align: right;\">0.99972 </td><td style=\"text-align: right;\"> 0.000279699</td><td style=\"text-align: right;\">2.2698e-23 </td></tr>\n",
              "<tr><td>Setosa   </td><td style=\"text-align: right;\">0.998149</td><td style=\"text-align: right;\"> 0.00185133 </td><td style=\"text-align: right;\">3.09932e-20</td></tr>\n",
              "<tr><td>Setosa   </td><td style=\"text-align: right;\">0.996757</td><td style=\"text-align: right;\"> 0.00324284 </td><td style=\"text-align: right;\">1.63285e-19</td></tr>\n",
              "<tr><td>Setosa   </td><td style=\"text-align: right;\">0.999757</td><td style=\"text-align: right;\"> 0.000242866</td><td style=\"text-align: right;\">1.57121e-19</td></tr>\n",
              "<tr><td>Setosa   </td><td style=\"text-align: right;\">0.999667</td><td style=\"text-align: right;\"> 0.000332897</td><td style=\"text-align: right;\">8.50196e-20</td></tr>\n",
              "<tr><td>Setosa   </td><td style=\"text-align: right;\">0.998384</td><td style=\"text-align: right;\"> 0.00161552 </td><td style=\"text-align: right;\">3.38422e-21</td></tr>\n",
              "<tr><td>Setosa   </td><td style=\"text-align: right;\">0.999772</td><td style=\"text-align: right;\"> 0.000228308</td><td style=\"text-align: right;\">4.17524e-21</td></tr>\n",
              "<tr><td>Setosa   </td><td style=\"text-align: right;\">0.999785</td><td style=\"text-align: right;\"> 0.00021514 </td><td style=\"text-align: right;\">1.40619e-19</td></tr>\n",
              "<tr><td>Setosa   </td><td style=\"text-align: right;\">0.999942</td><td style=\"text-align: right;\"> 5.82232e-05</td><td style=\"text-align: right;\">5.98047e-22</td></tr>\n",
              "</tbody>\n",
              "</table>"
            ]
          },
          "metadata": {
            "tags": []
          }
        },
        {
          "output_type": "stream",
          "text": [
            "\n"
          ],
          "name": "stdout"
        }
      ]
    },
    {
      "cell_type": "markdown",
      "metadata": {
        "id": "A_6Wv5sDaUBh"
      },
      "source": [
        "**Printing the Ranking for All**"
      ]
    },
    {
      "cell_type": "code",
      "metadata": {
        "colab": {
          "base_uri": "https://localhost:8080/",
          "height": 723
        },
        "id": "sSl2-_AMV4em",
        "outputId": "71026e44-e3fc-4561-fd5b-dfecbc13f467"
      },
      "source": [
        "lb.head(rows = lb.nrows)\n"
      ],
      "execution_count": 25,
      "outputs": [
        {
          "output_type": "display_data",
          "data": {
            "text/html": [
              "<table>\n",
              "<thead>\n",
              "<tr><th>model_id                                           </th><th style=\"text-align: right;\">  mean_per_class_error</th><th style=\"text-align: right;\">  logloss</th><th style=\"text-align: right;\">    rmse</th><th style=\"text-align: right;\">      mse</th><th style=\"text-align: right;\">  auc</th><th style=\"text-align: right;\">  aucpr</th></tr>\n",
              "</thead>\n",
              "<tbody>\n",
              "<tr><td>GLM_1_AutoML_20210731_064641                       </td><td style=\"text-align: right;\">             0.0246449</td><td style=\"text-align: right;\">0.0714207</td><td style=\"text-align: right;\">0.14904 </td><td style=\"text-align: right;\">0.0222128</td><td style=\"text-align: right;\">  nan</td><td style=\"text-align: right;\">    nan</td></tr>\n",
              "<tr><td>DeepLearning_grid__1_AutoML_20210731_064641_model_1</td><td style=\"text-align: right;\">             0.0501253</td><td style=\"text-align: right;\">0.242353 </td><td style=\"text-align: right;\">0.217426</td><td style=\"text-align: right;\">0.0472739</td><td style=\"text-align: right;\">  nan</td><td style=\"text-align: right;\">    nan</td></tr>\n",
              "<tr><td>StackedEnsemble_AllModels_AutoML_20210731_064641   </td><td style=\"text-align: right;\">             0.0509607</td><td style=\"text-align: right;\">0.223037 </td><td style=\"text-align: right;\">0.230501</td><td style=\"text-align: right;\">0.0531309</td><td style=\"text-align: right;\">  nan</td><td style=\"text-align: right;\">    nan</td></tr>\n",
              "<tr><td>DeepLearning_grid__2_AutoML_20210731_064641_model_1</td><td style=\"text-align: right;\">             0.0509607</td><td style=\"text-align: right;\">0.36188  </td><td style=\"text-align: right;\">0.220796</td><td style=\"text-align: right;\">0.0487511</td><td style=\"text-align: right;\">  nan</td><td style=\"text-align: right;\">    nan</td></tr>\n",
              "<tr><td>DeepLearning_grid__3_AutoML_20210731_064641_model_1</td><td style=\"text-align: right;\">             0.0509607</td><td style=\"text-align: right;\">0.359295 </td><td style=\"text-align: right;\">0.215543</td><td style=\"text-align: right;\">0.0464588</td><td style=\"text-align: right;\">  nan</td><td style=\"text-align: right;\">    nan</td></tr>\n",
              "<tr><td>XGBoost_grid__1_AutoML_20210731_064641_model_2     </td><td style=\"text-align: right;\">             0.0572264</td><td style=\"text-align: right;\">0.453995 </td><td style=\"text-align: right;\">0.369483</td><td style=\"text-align: right;\">0.136517 </td><td style=\"text-align: right;\">  nan</td><td style=\"text-align: right;\">    nan</td></tr>\n",
              "<tr><td>XGBoost_1_AutoML_20210731_064641                   </td><td style=\"text-align: right;\">             0.0572264</td><td style=\"text-align: right;\">0.237519 </td><td style=\"text-align: right;\">0.243379</td><td style=\"text-align: right;\">0.0592334</td><td style=\"text-align: right;\">  nan</td><td style=\"text-align: right;\">    nan</td></tr>\n",
              "<tr><td>XGBoost_2_AutoML_20210731_064641                   </td><td style=\"text-align: right;\">             0.0572264</td><td style=\"text-align: right;\">0.451997 </td><td style=\"text-align: right;\">0.367716</td><td style=\"text-align: right;\">0.135215 </td><td style=\"text-align: right;\">  nan</td><td style=\"text-align: right;\">    nan</td></tr>\n",
              "<tr><td>StackedEnsemble_BestOfFamily_AutoML_20210731_064641</td><td style=\"text-align: right;\">             0.0588972</td><td style=\"text-align: right;\">0.231802 </td><td style=\"text-align: right;\">0.238367</td><td style=\"text-align: right;\">0.0568188</td><td style=\"text-align: right;\">  nan</td><td style=\"text-align: right;\">    nan</td></tr>\n",
              "<tr><td>XGBoost_grid__1_AutoML_20210731_064641_model_1     </td><td style=\"text-align: right;\">             0.0659983</td><td style=\"text-align: right;\">0.211179 </td><td style=\"text-align: right;\">0.23842 </td><td style=\"text-align: right;\">0.0568443</td><td style=\"text-align: right;\">  nan</td><td style=\"text-align: right;\">    nan</td></tr>\n",
              "<tr><td>GBM_grid__1_AutoML_20210731_064641_model_4         </td><td style=\"text-align: right;\">             0.0659983</td><td style=\"text-align: right;\">0.191986 </td><td style=\"text-align: right;\">0.233785</td><td style=\"text-align: right;\">0.0546556</td><td style=\"text-align: right;\">  nan</td><td style=\"text-align: right;\">    nan</td></tr>\n",
              "<tr><td>GBM_3_AutoML_20210731_064641                       </td><td style=\"text-align: right;\">             0.0659983</td><td style=\"text-align: right;\">0.167773 </td><td style=\"text-align: right;\">0.226885</td><td style=\"text-align: right;\">0.0514768</td><td style=\"text-align: right;\">  nan</td><td style=\"text-align: right;\">    nan</td></tr>\n",
              "<tr><td>GBM_4_AutoML_20210731_064641                       </td><td style=\"text-align: right;\">             0.0659983</td><td style=\"text-align: right;\">0.179214 </td><td style=\"text-align: right;\">0.225585</td><td style=\"text-align: right;\">0.0508886</td><td style=\"text-align: right;\">  nan</td><td style=\"text-align: right;\">    nan</td></tr>\n",
              "<tr><td>XGBoost_grid__1_AutoML_20210731_064641_model_3     </td><td style=\"text-align: right;\">             0.0668338</td><td style=\"text-align: right;\">0.237314 </td><td style=\"text-align: right;\">0.24028 </td><td style=\"text-align: right;\">0.0577343</td><td style=\"text-align: right;\">  nan</td><td style=\"text-align: right;\">    nan</td></tr>\n",
              "<tr><td>DRF_1_AutoML_20210731_064641                       </td><td style=\"text-align: right;\">             0.0668338</td><td style=\"text-align: right;\">0.166234 </td><td style=\"text-align: right;\">0.209622</td><td style=\"text-align: right;\">0.0439414</td><td style=\"text-align: right;\">  nan</td><td style=\"text-align: right;\">    nan</td></tr>\n",
              "<tr><td>GBM_grid__1_AutoML_20210731_064641_model_5         </td><td style=\"text-align: right;\">             0.0676692</td><td style=\"text-align: right;\">0.227278 </td><td style=\"text-align: right;\">0.245021</td><td style=\"text-align: right;\">0.0600353</td><td style=\"text-align: right;\">  nan</td><td style=\"text-align: right;\">    nan</td></tr>\n",
              "<tr><td>GBM_grid__1_AutoML_20210731_064641_model_3         </td><td style=\"text-align: right;\">             0.0747703</td><td style=\"text-align: right;\">0.210839 </td><td style=\"text-align: right;\">0.249353</td><td style=\"text-align: right;\">0.062177 </td><td style=\"text-align: right;\">  nan</td><td style=\"text-align: right;\">    nan</td></tr>\n",
              "<tr><td>XGBoost_grid__1_AutoML_20210731_064641_model_4     </td><td style=\"text-align: right;\">             0.0747703</td><td style=\"text-align: right;\">0.187226 </td><td style=\"text-align: right;\">0.223957</td><td style=\"text-align: right;\">0.0501565</td><td style=\"text-align: right;\">  nan</td><td style=\"text-align: right;\">    nan</td></tr>\n",
              "<tr><td>XGBoost_grid__1_AutoML_20210731_064641_model_7     </td><td style=\"text-align: right;\">             0.0747703</td><td style=\"text-align: right;\">0.203179 </td><td style=\"text-align: right;\">0.229459</td><td style=\"text-align: right;\">0.0526514</td><td style=\"text-align: right;\">  nan</td><td style=\"text-align: right;\">    nan</td></tr>\n",
              "<tr><td>XGBoost_grid__1_AutoML_20210731_064641_model_8     </td><td style=\"text-align: right;\">             0.0747703</td><td style=\"text-align: right;\">0.237418 </td><td style=\"text-align: right;\">0.243859</td><td style=\"text-align: right;\">0.0594671</td><td style=\"text-align: right;\">  nan</td><td style=\"text-align: right;\">    nan</td></tr>\n",
              "<tr><td>GBM_grid__1_AutoML_20210731_064641_model_2         </td><td style=\"text-align: right;\">             0.0756057</td><td style=\"text-align: right;\">0.187236 </td><td style=\"text-align: right;\">0.227929</td><td style=\"text-align: right;\">0.0519517</td><td style=\"text-align: right;\">  nan</td><td style=\"text-align: right;\">    nan</td></tr>\n",
              "<tr><td>DeepLearning_1_AutoML_20210731_064641              </td><td style=\"text-align: right;\">             0.0789474</td><td style=\"text-align: right;\">0.207029 </td><td style=\"text-align: right;\">0.24462 </td><td style=\"text-align: right;\">0.0598388</td><td style=\"text-align: right;\">  nan</td><td style=\"text-align: right;\">    nan</td></tr>\n",
              "<tr><td>XGBoost_3_AutoML_20210731_064641                   </td><td style=\"text-align: right;\">             0.0835422</td><td style=\"text-align: right;\">0.189889 </td><td style=\"text-align: right;\">0.230527</td><td style=\"text-align: right;\">0.0531427</td><td style=\"text-align: right;\">  nan</td><td style=\"text-align: right;\">    nan</td></tr>\n",
              "<tr><td>GBM_1_AutoML_20210731_064641                       </td><td style=\"text-align: right;\">             0.0835422</td><td style=\"text-align: right;\">0.243702 </td><td style=\"text-align: right;\">0.253789</td><td style=\"text-align: right;\">0.0644088</td><td style=\"text-align: right;\">  nan</td><td style=\"text-align: right;\">    nan</td></tr>\n",
              "<tr><td>GBM_2_AutoML_20210731_064641                       </td><td style=\"text-align: right;\">             0.0835422</td><td style=\"text-align: right;\">0.170393 </td><td style=\"text-align: right;\">0.226202</td><td style=\"text-align: right;\">0.0511671</td><td style=\"text-align: right;\">  nan</td><td style=\"text-align: right;\">    nan</td></tr>\n",
              "<tr><td>XRT_1_AutoML_20210731_064641                       </td><td style=\"text-align: right;\">             0.0843776</td><td style=\"text-align: right;\">0.170911 </td><td style=\"text-align: right;\">0.214701</td><td style=\"text-align: right;\">0.0460965</td><td style=\"text-align: right;\">  nan</td><td style=\"text-align: right;\">    nan</td></tr>\n",
              "<tr><td>DeepLearning_grid__1_AutoML_20210731_064641_model_2</td><td style=\"text-align: right;\">             0.0868839</td><td style=\"text-align: right;\">0.22607  </td><td style=\"text-align: right;\">0.253478</td><td style=\"text-align: right;\">0.0642511</td><td style=\"text-align: right;\">  nan</td><td style=\"text-align: right;\">    nan</td></tr>\n",
              "<tr><td>XGBoost_grid__1_AutoML_20210731_064641_model_5     </td><td style=\"text-align: right;\">             0.121554 </td><td style=\"text-align: right;\">0.483834 </td><td style=\"text-align: right;\">0.387852</td><td style=\"text-align: right;\">0.150429 </td><td style=\"text-align: right;\">  nan</td><td style=\"text-align: right;\">    nan</td></tr>\n",
              "<tr><td>XGBoost_grid__1_AutoML_20210731_064641_model_9     </td><td style=\"text-align: right;\">             0.139098 </td><td style=\"text-align: right;\">0.622366 </td><td style=\"text-align: right;\">0.463198</td><td style=\"text-align: right;\">0.214553 </td><td style=\"text-align: right;\">  nan</td><td style=\"text-align: right;\">    nan</td></tr>\n",
              "<tr><td>DeepLearning_grid__2_AutoML_20210731_064641_model_2</td><td style=\"text-align: right;\">             0.22807  </td><td style=\"text-align: right;\">0.753171 </td><td style=\"text-align: right;\">0.422599</td><td style=\"text-align: right;\">0.17859  </td><td style=\"text-align: right;\">  nan</td><td style=\"text-align: right;\">    nan</td></tr>\n",
              "<tr><td>DeepLearning_grid__3_AutoML_20210731_064641_model_2</td><td style=\"text-align: right;\">             0.304511 </td><td style=\"text-align: right;\">0.952219 </td><td style=\"text-align: right;\">0.459541</td><td style=\"text-align: right;\">0.211178 </td><td style=\"text-align: right;\">  nan</td><td style=\"text-align: right;\">    nan</td></tr>\n",
              "<tr><td>XGBoost_grid__1_AutoML_20210731_064641_model_6     </td><td style=\"text-align: right;\">             0.666667 </td><td style=\"text-align: right;\">1.0983   </td><td style=\"text-align: right;\">0.666469</td><td style=\"text-align: right;\">0.44418  </td><td style=\"text-align: right;\">  nan</td><td style=\"text-align: right;\">    nan</td></tr>\n",
              "</tbody>\n",
              "</table>"
            ]
          },
          "metadata": {
            "tags": []
          }
        },
        {
          "output_type": "execute_result",
          "data": {
            "text/plain": [
              ""
            ]
          },
          "metadata": {
            "tags": []
          },
          "execution_count": 25
        }
      ]
    },
    {
      "cell_type": "markdown",
      "metadata": {
        "id": "zlBGI71LWFxM"
      },
      "source": [
        "**Conclusion**"
      ]
    },
    {
      "cell_type": "markdown",
      "metadata": {
        "id": "NQIJk2auWKpC"
      },
      "source": [
        "H2O provides an easy-to-use open source platform for applying different ML algorithms on a given dataset. It provides several statistical and ML algorithms including deep learning. During testing, you can fine tune the parameters to these algorithms. You can do so using command-line or the provided web-based interface called Flow. H2O also supports AutoML that provides the ranking amongst the several algorithms based on their performance. H2O also performs well on Big Data. This is definitely a boon for Data Scientist to apply the different Machine Learning models on their dataset and pick up the best one to meet their needs."
      ]
    }
  ]
}